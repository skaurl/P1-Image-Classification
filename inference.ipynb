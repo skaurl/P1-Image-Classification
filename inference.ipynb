{
 "cells": [
  {
   "cell_type": "code",
   "execution_count": 1,
   "metadata": {
    "id": "tQsGH88AeygM"
   },
   "outputs": [],
   "source": [
    "import os\n",
    "import pandas as pd\n",
    "from PIL import Image\n",
    "\n",
    "import torch\n",
    "import torch.nn as nn\n",
    "import torch.nn.functional as F\n",
    "from torch.utils.data import Dataset, DataLoader\n",
    "\n",
    "from torchvision import transforms\n",
    "from torchvision.transforms import Resize, ToTensor, Normalize"
   ]
  },
  {
   "cell_type": "code",
   "execution_count": 2,
   "metadata": {
    "id": "qw56Mjo-fBM-"
   },
   "outputs": [],
   "source": [
    "test_dir = '/opt/ml/input/data/eval'"
   ]
  },
  {
   "cell_type": "code",
   "execution_count": 3,
   "metadata": {},
   "outputs": [],
   "source": [
    "class TestDataset(Dataset):\n",
    "    def __init__(self, img_paths, transform):\n",
    "        self.img_paths = img_paths\n",
    "        self.transform = transform\n",
    "\n",
    "    def __getitem__(self, index):\n",
    "        image = Image.open(self.img_paths[index])\n",
    "\n",
    "        if self.transform:\n",
    "            image = self.transform(image)\n",
    "        return image\n",
    "\n",
    "    def __len__(self):\n",
    "        return len(self.img_paths)"
   ]
  },
  {
   "cell_type": "code",
   "execution_count": 4,
   "metadata": {
    "jupyter": {
     "source_hidden": true
    },
    "tags": []
   },
   "outputs": [],
   "source": [
    "def convert(x):\n",
    "    if x == 0:\n",
    "        return '0'\n",
    "    elif x == 1:\n",
    "        return '1'\n",
    "    elif x == 2:\n",
    "        return '10'\n",
    "    elif x == 3:\n",
    "        return '11'\n",
    "    elif x == 4:\n",
    "        return '12'\n",
    "    elif x == 5:\n",
    "        return '13'\n",
    "    elif x == 6:\n",
    "        return '14'\n",
    "    elif x == 7:\n",
    "        return '15'\n",
    "    elif x == 8:\n",
    "        return '16'\n",
    "    elif x == 9:\n",
    "        return '17'\n",
    "    elif x == 10:\n",
    "        return '2'\n",
    "    elif x == 11:\n",
    "        return '3'\n",
    "    elif x == 12:\n",
    "        return '4'\n",
    "    elif x == 13:\n",
    "        return '5'\n",
    "    elif x == 14:\n",
    "        return '6'\n",
    "    elif x == 15:\n",
    "        return '7'\n",
    "    elif x == 16:\n",
    "        return '8'\n",
    "    elif x == 17:\n",
    "        return '9'"
   ]
  },
  {
   "cell_type": "code",
   "execution_count": 5,
   "metadata": {
    "tags": []
   },
   "outputs": [
    {
     "name": "stdout",
     "output_type": "stream",
     "text": [
      "test inference is done!\n"
     ]
    }
   ],
   "source": [
    "submission = pd.read_csv(os.path.join(test_dir, 'info.csv'))\n",
    "image_dir = os.path.join(test_dir, 'images')\n",
    "\n",
    "image_paths = [os.path.join(image_dir, img_id) for img_id in submission.ImageID]\n",
    "transform = transforms.Compose([\n",
    "        transforms.CenterCrop(384),\n",
    "        transforms.ToTensor(),\n",
    "        transforms.Normalize([0.485, 0.456, 0.406], [0.229, 0.224, 0.225])\n",
    "])\n",
    "dataset = TestDataset(image_paths, transform)\n",
    "\n",
    "loader = DataLoader(\n",
    "    dataset,\n",
    "    shuffle=False\n",
    ")\n",
    "\n",
    "device = torch.device('cuda')\n",
    "\n",
    "model_1 = torch.load(\"/opt/ml/model/model_data_1.pt\")\n",
    "model_1.eval()\n",
    "# model_2 = torch.load(\"/opt/ml/model/model_data_2.pt\")\n",
    "# model_2.eval()\n",
    "# model_3 = torch.load(\"/opt/ml/model/model_data_3.pt\")\n",
    "# model_3.eval()\n",
    "# model_4 = torch.load(\"/opt/ml/model/model_data_4.pt\")\n",
    "# model_4.eval()\n",
    "# model_5 = torch.load(\"/opt/ml/model/model_data_5.pt\")\n",
    "# model_5.eval()\n",
    "\n",
    "all_predictions = []\n",
    "for images in loader:\n",
    "    with torch.no_grad():\n",
    "        images = images.to(device)\n",
    "        # pred = model_conv(images)\n",
    "        pred_1 = model_1(images)\n",
    "        # pred_2 = model_2(images)\n",
    "        # pred_3 = model_3(images)\n",
    "        # pred_4 = model_4(images)\n",
    "        # pred_5 = model_5(images)\n",
    "        pred = pred_1\n",
    "        # pred = pred_1 + pred_2 + pred_3 + pred_4 + pred_5\n",
    "        pred = pred.argmax(dim=-1)\n",
    "        all_predictions.extend(pred.cpu().numpy())\n",
    "        \n",
    "submission['ans'] = all_predictions\n",
    "\n",
    "submission['ans'] = submission['ans'].apply(lambda x : convert(x))\n",
    "\n",
    "submission.to_csv(os.path.join(test_dir, 'submission.csv'), index=False)\n",
    "print('test inference is done!')"
   ]
  },
  {
   "cell_type": "code",
   "execution_count": null,
   "metadata": {},
   "outputs": [],
   "source": []
  }
 ],
 "metadata": {
  "accelerator": "GPU",
  "colab": {
   "collapsed_sections": [],
   "machine_shape": "hm",
   "name": "transfer_learning_tutorial.ipynb",
   "provenance": []
  },
  "kernelspec": {
   "display_name": "Python 3",
   "language": "python",
   "name": "python3"
  },
  "language_info": {
   "codemirror_mode": {
    "name": "ipython",
    "version": 3
   },
   "file_extension": ".py",
   "mimetype": "text/x-python",
   "name": "python",
   "nbconvert_exporter": "python",
   "pygments_lexer": "ipython3",
   "version": "3.7.7"
  }
 },
 "nbformat": 4,
 "nbformat_minor": 4
}