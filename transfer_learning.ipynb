{
 "cells": [
  {
   "cell_type": "code",
   "execution_count": 1,
   "metadata": {
    "id": "o7hU4rkpdRZw"
   },
   "outputs": [],
   "source": [
    "%matplotlib inline"
   ]
  },
  {
   "cell_type": "code",
   "execution_count": 2,
   "metadata": {
    "id": "D5KaE6IedRaA"
   },
   "outputs": [
    {
     "name": "stdout",
     "output_type": "stream",
     "text": [
      "Enabling notebook extension jupyter-js-widgets/extension...\n",
      "      - Validating: \u001B[32mOK\u001B[0m\n"
     ]
    }
   ],
   "source": [
    "from __future__ import print_function, division\n",
    "\n",
    "import torch\n",
    "import torch.nn as nn\n",
    "import torch.nn.functional as F\n",
    "from torch.autograd import Variable\n",
    "import torch.optim as optim\n",
    "from torch.optim import lr_scheduler\n",
    "import pandas as pd\n",
    "import numpy as np\n",
    "import torchvision\n",
    "from torchvision import datasets, models, transforms\n",
    "from efficientnet_pytorch import EfficientNet\n",
    "import matplotlib.pyplot as plt\n",
    "import time\n",
    "import os\n",
    "import copy\n",
    "import shutil\n",
    "\n",
    "!jupyter nbextension enable --py widgetsnbextension\n",
    "\n",
    "plt.ion()"
   ]
  },
  {
   "cell_type": "code",
   "execution_count": 3,
   "metadata": {},
   "outputs": [
    {
     "name": "stdout",
     "output_type": "stream",
     "text": [
      "0 4836\n",
      "1 3238\n",
      "2 2110\n",
      "3 4770\n",
      "4 4626\n",
      "5 1554\n",
      "6 969\n",
      "7 649\n",
      "8 433\n",
      "9 954\n",
      "10 928\n",
      "11 307\n",
      "12 970\n",
      "13 666\n",
      "14 413\n",
      "15 955\n",
      "16 917\n",
      "17 309\n"
     ]
    }
   ],
   "source": [
    "for num in range(18):\n",
    "    print(num, len(os.listdir('/opt/ml/input/ensemble/data_1/train/'+str(num))))"
   ]
  },
  {
   "cell_type": "code",
   "execution_count": 4,
   "metadata": {
    "id": "xfkDQ0CddRaB"
   },
   "outputs": [],
   "source": [
    "# https://pytorch.org/vision/stable/transforms.html\n",
    "\n",
    "data_transforms = {\n",
    "    'train': transforms.Compose([\n",
    "        transforms.CenterCrop(384),\n",
    "        transforms.ToTensor(),\n",
    "        transforms.Normalize([0.485, 0.456, 0.406], [0.229, 0.224, 0.225])\n",
    "    ]),\n",
    "    'val': transforms.Compose([\n",
    "        transforms.CenterCrop(384),\n",
    "        transforms.ToTensor(),\n",
    "        transforms.Normalize([0.485, 0.456, 0.406], [0.229, 0.224, 0.225])\n",
    "    ])\n",
    "}\n",
    "\n",
    "data_dir = '/opt/ml/input/ensemble/data_1'\n",
    "image_datasets = {x: datasets.ImageFolder(os.path.join(data_dir, x),\n",
    "                                          data_transforms[x])\n",
    "                  for x in ['train', 'val']}\n",
    "dataloaders = {x: torch.utils.data.DataLoader(image_datasets[x], batch_size=4,\n",
    "                                             shuffle=True, num_workers=4)\n",
    "              for x in ['train', 'val']}\n",
    "dataset_sizes = {x: len(image_datasets[x]) for x in ['train', 'val']}\n",
    "class_names = image_datasets['train'].classes\n",
    "\n",
    "device = torch.device(\"cuda:0\" if torch.cuda.is_available() else \"cpu\")"
   ]
  },
  {
   "cell_type": "code",
   "execution_count": 5,
   "metadata": {
    "id": "bDBI3WzldRaD"
   },
   "outputs": [],
   "source": [
    "def train_model(model, criterion, optimizer, scheduler, num_epochs=10):\n",
    "    since = time.time()\n",
    "\n",
    "    best_model_wts = copy.deepcopy(model.state_dict())\n",
    "    best_acc = 0.0\n",
    "\n",
    "    for epoch in range(num_epochs):\n",
    "        print('Epoch {}/{}'.format(epoch, num_epochs - 1))\n",
    "        print('-' * 10)\n",
    "\n",
    "        for phase in ['train', 'val']:\n",
    "            if phase == 'train':\n",
    "                model.train()\n",
    "            else:\n",
    "                model.eval()\n",
    "\n",
    "            running_loss = 0.0\n",
    "            running_corrects = 0\n",
    "\n",
    "            for inputs, labels in dataloaders[phase]:\n",
    "                inputs = inputs.to(device)\n",
    "                labels = labels.to(device)\n",
    "\n",
    "                optimizer.zero_grad()\n",
    "\n",
    "                with torch.set_grad_enabled(phase == 'train'):\n",
    "                    outputs = model(inputs)\n",
    "                    _, preds = torch.max(outputs, 1)\n",
    "                    loss = criterion(outputs, labels)\n",
    "\n",
    "                    if phase == 'train':\n",
    "                        loss.backward()\n",
    "                        optimizer.step()\n",
    "\n",
    "                running_loss += loss.item() * inputs.size(0)\n",
    "                running_corrects += torch.sum(preds == labels.data)\n",
    "\n",
    "            epoch_loss = running_loss / dataset_sizes[phase]\n",
    "            epoch_acc = running_corrects.double() / dataset_sizes[phase]\n",
    "\n",
    "            print('{} Loss: {:.4f} Acc: {:.4f}'.format(\n",
    "                phase, epoch_loss, epoch_acc))\n",
    "\n",
    "            if phase == 'val':\n",
    "                scheduler.step()\n",
    "\n",
    "            if phase == 'val' and epoch_acc > best_acc:\n",
    "                best_acc = epoch_acc\n",
    "                best_model_wts = copy.deepcopy(model.state_dict())\n",
    "                torch.save(model_ft, \"/opt/ml/model/model_data_1.pt\")\n",
    "\n",
    "        print()\n",
    "\n",
    "    time_elapsed = time.time() - since\n",
    "    print('Training complete in {:.0f}m {:.0f}s'.format(\n",
    "        time_elapsed // 60, time_elapsed % 60))\n",
    "    print('Best val Acc: {:4f}'.format(best_acc))\n",
    "\n",
    "    model.load_state_dict(best_model_wts)\n",
    "    return model"
   ]
  },
  {
   "cell_type": "code",
   "execution_count": 6,
   "metadata": {},
   "outputs": [],
   "source": [
    "class LabelSmoothingLoss(nn.Module):\n",
    "    def __init__(self, classes=18, smoothing=0.0, dim=-1):\n",
    "        super(LabelSmoothingLoss, self).__init__()\n",
    "        self.confidence = 1.0 - smoothing\n",
    "        self.smoothing = smoothing\n",
    "        self.cls = classes\n",
    "        self.dim = dim\n",
    "\n",
    "    def forward(self, pred, target):\n",
    "        pred = pred.log_softmax(dim=self.dim)\n",
    "        with torch.no_grad():\n",
    "            true_dist = torch.zeros_like(pred)\n",
    "            true_dist.fill_(self.smoothing / (self.cls - 1))\n",
    "            true_dist.scatter_(1, target.data.unsqueeze(1), self.confidence)\n",
    "        return torch.mean(torch.sum(-true_dist * pred, dim=self.dim))"
   ]
  },
  {
   "cell_type": "code",
   "execution_count": 7,
   "metadata": {
    "id": "OrA7sK3TdRaE"
   },
   "outputs": [],
   "source": [
    "# https://pytorch.org/vision/stable/models.html\n",
    "\n",
    "# model_ft = models.resnet18(pretrained=True)\n",
    "model_ft = models.resnet34(pretrained=True)\n",
    "# model_ft = models.resnet50(pretrained=True)\n",
    "# model_ft = models.resnet101(pretrained=True)\n",
    "# model_ft = models.resnet152(pretrained=True)\n",
    "# model_ft = models.resnext50_32x4d(pretrained=True)\n",
    "# model_ft = models.resnext101_32x8d(pretrained=True)\n",
    "# model_ft = models.wide_resnet50_2(pretrained=True)\n",
    "# model_ft = models.wide_resnet101_2(pretrained=True)\n",
    "# model_ft = EfficientNet.from_pretrained('efficientnet-b0', num_classes=18)\n",
    "\n",
    "num_ftrs = model_ft.fc.in_features\n",
    "\n",
    "model_ft.fc = nn.Linear(num_ftrs, len(class_names))\n",
    "\n",
    "model_ft = model_ft.to(device)\n",
    "\n",
    "criterion = LabelSmoothingLoss()\n",
    "\n",
    "optimizer_ft = optim.SGD(model_ft.parameters(), lr=0.0001, momentum=0.9)\n",
    "\n",
    "exp_lr_scheduler = lr_scheduler.StepLR(optimizer_ft, step_size=10, gamma=0.9)"
   ]
  },
  {
   "cell_type": "code",
   "execution_count": 8,
   "metadata": {
    "id": "eYEiqZU-dRaF",
    "tags": []
   },
   "outputs": [
    {
     "name": "stdout",
     "output_type": "stream",
     "text": [
      "Epoch 0/14\n",
      "----------\n",
      "train Loss: 0.9895 Acc: 0.6913\n",
      "val Loss: 0.4645 Acc: 0.8233\n",
      "\n",
      "Epoch 1/14\n",
      "----------\n",
      "train Loss: 0.4615 Acc: 0.8465\n",
      "val Loss: 0.3346 Acc: 0.8724\n",
      "\n",
      "Epoch 2/14\n",
      "----------\n",
      "train Loss: 0.3301 Acc: 0.8888\n",
      "val Loss: 0.2732 Acc: 0.8866\n",
      "\n",
      "Epoch 3/14\n",
      "----------\n",
      "train Loss: 0.2412 Acc: 0.9200\n",
      "val Loss: 0.1733 Acc: 0.9330\n",
      "\n",
      "Epoch 4/14\n",
      "----------\n",
      "train Loss: 0.1789 Acc: 0.9431\n",
      "val Loss: 0.1985 Acc: 0.9204\n",
      "\n",
      "Epoch 5/14\n",
      "----------\n",
      "train Loss: 0.1250 Acc: 0.9622\n",
      "val Loss: 0.1160 Acc: 0.9562\n",
      "\n",
      "Epoch 6/14\n",
      "----------\n",
      "train Loss: 0.0964 Acc: 0.9723\n",
      "val Loss: 0.0878 Acc: 0.9694\n",
      "\n",
      "Epoch 7/14\n",
      "----------\n",
      "train Loss: 0.0731 Acc: 0.9789\n",
      "val Loss: 0.0789 Acc: 0.9731\n",
      "\n",
      "Epoch 8/14\n",
      "----------\n",
      "train Loss: 0.0558 Acc: 0.9850\n",
      "val Loss: 0.0695 Acc: 0.9763\n",
      "\n",
      "Epoch 9/14\n",
      "----------\n",
      "train Loss: 0.0454 Acc: 0.9882\n",
      "val Loss: 0.0650 Acc: 0.9778\n",
      "\n",
      "Epoch 10/14\n",
      "----------\n",
      "train Loss: 0.0363 Acc: 0.9913\n",
      "val Loss: 0.0554 Acc: 0.9821\n",
      "\n",
      "Epoch 11/14\n",
      "----------\n",
      "train Loss: 0.0307 Acc: 0.9921\n",
      "val Loss: 0.0496 Acc: 0.9858\n",
      "\n",
      "Epoch 12/14\n",
      "----------\n",
      "train Loss: 0.0253 Acc: 0.9942\n",
      "val Loss: 0.0508 Acc: 0.9858\n",
      "\n",
      "Epoch 13/14\n",
      "----------\n",
      "train Loss: 0.0254 Acc: 0.9940\n",
      "val Loss: 0.0508 Acc: 0.9858\n",
      "\n",
      "Epoch 14/14\n",
      "----------\n",
      "train Loss: 0.0219 Acc: 0.9950\n",
      "val Loss: 0.0531 Acc: 0.9836\n",
      "\n",
      "Training complete in 98m 27s\n",
      "Best val Acc: 0.985759\n"
     ]
    }
   ],
   "source": [
    "model_ft = train_model(model_ft, criterion, optimizer_ft, exp_lr_scheduler, num_epochs=15)"
   ]
  }
 ],
 "metadata": {
  "accelerator": "GPU",
  "colab": {
   "collapsed_sections": [],
   "machine_shape": "hm",
   "name": "transfer_learning_tutorial.ipynb",
   "provenance": []
  },
  "kernelspec": {
   "display_name": "Python 3",
   "language": "python",
   "name": "python3"
  },
  "language_info": {
   "codemirror_mode": {
    "name": "ipython",
    "version": 3
   },
   "file_extension": ".py",
   "mimetype": "text/x-python",
   "name": "python",
   "nbconvert_exporter": "python",
   "pygments_lexer": "ipython3",
   "version": "3.7.7"
  }
 },
 "nbformat": 4,
 "nbformat_minor": 4
}