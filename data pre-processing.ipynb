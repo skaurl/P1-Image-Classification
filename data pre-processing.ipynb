{
 "cells": [
  {
   "cell_type": "code",
   "execution_count": 1,
   "metadata": {
    "id": "o7hU4rkpdRZw"
   },
   "outputs": [],
   "source": [
    "%matplotlib inline"
   ]
  },
  {
   "cell_type": "code",
   "execution_count": 2,
   "metadata": {
    "id": "D5KaE6IedRaA"
   },
   "outputs": [
    {
     "name": "stdout",
     "output_type": "stream",
     "text": [
      "Enabling notebook extension jupyter-js-widgets/extension...\n",
      "      - Validating: \u001B[32mOK\u001B[0m\n"
     ]
    }
   ],
   "source": [
    "from __future__ import print_function, division\n",
    "\n",
    "import pandas as pd\n",
    "import numpy as np\n",
    "import matplotlib.pyplot as plt\n",
    "import os\n",
    "import shutil\n",
    "from sklearn.model_selection import KFold\n",
    "\n",
    "!jupyter nbextension enable --py widgetsnbextension\n",
    "\n",
    "plt.ion()"
   ]
  },
  {
   "cell_type": "code",
   "execution_count": 3,
   "metadata": {},
   "outputs": [],
   "source": [
    "os.makedirs('/opt/ml/input/ensemble')\n",
    "os.makedirs('/opt/ml/input/ensemble/pre-processing')\n",
    "for i in range(18):\n",
    "    os.makedirs('/opt/ml/input/ensemble/pre-processing/'+str(i))\n",
    "for n in range(1,2):\n",
    "    os.makedirs('/opt/ml/input/ensemble/data_'+str(n))\n",
    "    os.makedirs('/opt/ml/input/ensemble/data_'+str(n)+'/train')\n",
    "    os.makedirs('/opt/ml/input/ensemble/data_'+str(n)+'/val')\n",
    "    for m in range(18):\n",
    "        os.makedirs('/opt/ml/input/ensemble/data_'+str(n)+'/train/'+str(m))\n",
    "        os.makedirs('/opt/ml/input/ensemble/data_'+str(n)+'/val/'+str(m))"
   ]
  },
  {
   "cell_type": "code",
   "execution_count": 4,
   "metadata": {},
   "outputs": [],
   "source": [
    "def age(x):\n",
    "    if x < 30:\n",
    "        return 0\n",
    "    elif x >= 58:\n",
    "        return 2\n",
    "    else:\n",
    "        return 1\n",
    "\n",
    "img_info = pd.read_csv('/opt/ml/input/data/train/train.csv')\n",
    "img_info['age_label'] = img_info['age'].apply(lambda x : age(x))\n",
    "\n",
    "for i in range(len(img_info)):\n",
    "    if img_info.iloc[i,4] in ['004432_male_Asian_43','001498-1_male_Asian_23']:\n",
    "        img_info.iloc[i,1] = 'female'\n",
    "    elif img_info.iloc[i,4] in ['006359_female_Asian_18','006360_female_Asian_18','006361_female_Asian_18','006362_female_Asian_18','006363_female_Asian_18','006364_female_Asian_18']:\n",
    "        img_info.iloc[i,1] = 'male'"
   ]
  },
  {
   "cell_type": "code",
   "execution_count": 5,
   "metadata": {
    "tags": []
   },
   "outputs": [],
   "source": [
    "for num in range(len(img_info)):\n",
    "    for name in os.listdir('/opt/ml/input/data/train/images/'+img_info.iloc[num,4]):\n",
    "        original_path = '/opt/ml/input/data/train/images/'+img_info.iloc[num,4]+'/'+name\n",
    "        destination_path = '/opt/ml/input/ensemble/pre-processing/'\n",
    "        if name[:4] == 'mask' and img_info.iloc[num,1] == 'male' and img_info.iloc[num,5] == 0:\n",
    "            shutil.copyfile(original_path,destination_path+'0'+'/'+img_info.iloc[num,4]+name)\n",
    "        elif name[:4] == 'mask' and img_info.iloc[num,1] == 'male' and img_info.iloc[num,5] == 1:\n",
    "            shutil.copyfile(original_path,destination_path+'1'+'/'+img_info.iloc[num,4]+name)\n",
    "        elif name[:4] == 'mask' and img_info.iloc[num,1] == 'male' and img_info.iloc[num,5] == 2:\n",
    "            shutil.copyfile(original_path,destination_path+'2'+'/'+img_info.iloc[num,4]+name)\n",
    "        elif name[:4] == 'mask' and img_info.iloc[num,1] == 'female' and img_info.iloc[num,5] == 0:\n",
    "            shutil.copyfile(original_path,destination_path+'3'+'/'+img_info.iloc[num,4]+name)\n",
    "        elif name[:4] == 'mask' and img_info.iloc[num,1] == 'female' and img_info.iloc[num,5] == 1:\n",
    "            shutil.copyfile(original_path,destination_path+'4'+'/'+img_info.iloc[num,4]+name)\n",
    "        elif name[:4] == 'mask' and img_info.iloc[num,1] == 'female' and img_info.iloc[num,5] == 2:\n",
    "            shutil.copyfile(original_path,destination_path+'5'+'/'+img_info.iloc[num,4]+name)\n",
    "        elif name[:4] == 'inco' and img_info.iloc[num,1] == 'male' and img_info.iloc[num,5] == 0:\n",
    "            shutil.copyfile(original_path,destination_path+'6'+'/'+img_info.iloc[num,4]+name)\n",
    "        elif name[:4] == 'inco' and img_info.iloc[num,1] == 'male' and img_info.iloc[num,5] == 1:\n",
    "            shutil.copyfile(original_path,destination_path+'7'+'/'+img_info.iloc[num,4]+name)\n",
    "        elif name[:4] == 'inco' and img_info.iloc[num,1] == 'male' and img_info.iloc[num,5] == 2:\n",
    "            shutil.copyfile(original_path,destination_path+'8'+'/'+img_info.iloc[num,4]+name)\n",
    "        elif name[:4] == 'inco' and img_info.iloc[num,1] == 'female' and img_info.iloc[num,5] == 0:\n",
    "            shutil.copyfile(original_path,destination_path+'9'+'/'+img_info.iloc[num,4]+name)\n",
    "        elif name[:4] == 'inco' and img_info.iloc[num,1] == 'female' and img_info.iloc[num,5] == 1:\n",
    "            shutil.copyfile(original_path,destination_path+'10'+'/'+img_info.iloc[num,4]+name)\n",
    "        elif name[:4] == 'inco' and img_info.iloc[num,1] == 'female' and img_info.iloc[num,5] == 2:\n",
    "            shutil.copyfile(original_path,destination_path+'11'+'/'+img_info.iloc[num,4]+name)\n",
    "        elif name[:4] == 'norm' and img_info.iloc[num,1] == 'male' and img_info.iloc[num,5] == 0:\n",
    "            shutil.copyfile(original_path,destination_path+'12'+'/'+img_info.iloc[num,4]+name)\n",
    "        elif name[:4] == 'norm' and img_info.iloc[num,1] == 'male' and img_info.iloc[num,5] == 1:\n",
    "            shutil.copyfile(original_path,destination_path+'13'+'/'+img_info.iloc[num,4]+name)\n",
    "        elif name[:4] == 'norm' and img_info.iloc[num,1] == 'male' and img_info.iloc[num,5] == 2:\n",
    "            shutil.copyfile(original_path,destination_path+'14'+'/'+img_info.iloc[num,4]+name)\n",
    "        elif name[:4] == 'norm' and img_info.iloc[num,1] == 'female' and img_info.iloc[num,5] == 0:\n",
    "            shutil.copyfile(original_path,destination_path+'15'+'/'+img_info.iloc[num,4]+name)\n",
    "        elif name[:4] == 'norm' and img_info.iloc[num,1] == 'female' and img_info.iloc[num,5] == 1:\n",
    "            shutil.copyfile(original_path,destination_path+'16'+'/'+img_info.iloc[num,4]+name)\n",
    "        elif name[:4] == 'norm' and img_info.iloc[num,1] == 'female' and img_info.iloc[num,5] == 2:\n",
    "            shutil.copyfile(original_path,destination_path+'17'+'/'+img_info.iloc[num,4]+name)"
   ]
  },
  {
   "cell_type": "code",
   "execution_count": 6,
   "metadata": {
    "tags": []
   },
   "outputs": [],
   "source": [
    "kf = KFold(n_splits=10, shuffle=True, random_state= 42)\n",
    "\n",
    "for num in range(18):\n",
    "    tmp = np.array(os.listdir(destination_path+str(num)))\n",
    "    cnt = 0\n",
    "    for train_index, test_index in kf.split(tmp):\n",
    "        cnt += 1\n",
    "        if cnt == 1:\n",
    "            train = tmp[train_index]\n",
    "            test = tmp[test_index]\n",
    "            for file_name in train:\n",
    "                try:\n",
    "                    shutil.copyfile('/opt/ml/input/ensemble/pre-processing/'+str(num)+'/'+file_name,\n",
    "                                   '/opt/ml/input/ensemble/data_'+str(cnt)+'/train/'+str(num)+'/'+file_name)\n",
    "                except:\n",
    "                    pass\n",
    "            for file_name in test:\n",
    "                try:\n",
    "                    shutil.copyfile('/opt/ml/input/ensemble/pre-processing/'+str(num)+'/'+file_name,\n",
    "                                   '/opt/ml/input/ensemble/data_'+str(cnt)+'/val/'+str(num)+'/'+file_name)\n",
    "                except:\n",
    "                    pass"
   ]
  },
  {
   "cell_type": "code",
   "execution_count": 7,
   "metadata": {
    "tags": []
   },
   "outputs": [],
   "source": [
    "df = pd.read_csv('/opt/ml/input/data/eval/submission_tmp.csv')\n",
    "\n",
    "for i in range(len(df)):\n",
    "    shutil.copyfile('/opt/ml/input/data/eval/images/'+df.iloc[i,0],\n",
    "                   '/opt/ml/input/ensemble/data_1/train/'+str(df.iloc[i,1])+'/'+df.iloc[i,0])"
   ]
  },
  {
   "cell_type": "code",
   "execution_count": null,
   "metadata": {},
   "outputs": [],
   "source": []
  }
 ],
 "metadata": {
  "accelerator": "GPU",
  "colab": {
   "collapsed_sections": [],
   "machine_shape": "hm",
   "name": "transfer_learning_tutorial.ipynb",
   "provenance": []
  },
  "kernelspec": {
   "display_name": "Python 3",
   "language": "python",
   "name": "python3"
  },
  "language_info": {
   "codemirror_mode": {
    "name": "ipython",
    "version": 3
   },
   "file_extension": ".py",
   "mimetype": "text/x-python",
   "name": "python",
   "nbconvert_exporter": "python",
   "pygments_lexer": "ipython3",
   "version": "3.7.7"
  }
 },
 "nbformat": 4,
 "nbformat_minor": 4
}